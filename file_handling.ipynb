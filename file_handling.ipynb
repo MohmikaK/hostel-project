{
 "cells": [
  {
   "cell_type": "code",
   "execution_count": 1,
   "id": "a440211c",
   "metadata": {},
   "outputs": [
    {
     "ename": "NameError",
     "evalue": "name 'year' is not defined",
     "output_type": "error",
     "traceback": [
      "\u001b[1;31m---------------------------------------------------------------------------\u001b[0m",
      "\u001b[1;31mNameError\u001b[0m                                 Traceback (most recent call last)",
      "\u001b[1;32m~\\AppData\\Local\\Temp\\ipykernel_9952\\3288535418.py\u001b[0m in \u001b[0;36m<module>\u001b[1;34m\u001b[0m\n\u001b[0;32m      1\u001b[0m \u001b[1;32mimport\u001b[0m \u001b[0mdatetime\u001b[0m\u001b[1;33m\u001b[0m\u001b[1;33m\u001b[0m\u001b[0m\n\u001b[0;32m      2\u001b[0m \u001b[1;33m\u001b[0m\u001b[0m\n\u001b[1;32m----> 3\u001b[1;33m \u001b[0mdate_input\u001b[0m \u001b[1;33m=\u001b[0m \u001b[0mdatetime\u001b[0m\u001b[1;33m.\u001b[0m\u001b[0mdate\u001b[0m\u001b[1;33m(\u001b[0m\u001b[0myear\u001b[0m\u001b[1;33m,\u001b[0m \u001b[0mmonth\u001b[0m\u001b[1;33m,\u001b[0m \u001b[0mday\u001b[0m\u001b[1;33m)\u001b[0m\u001b[1;33m\u001b[0m\u001b[1;33m\u001b[0m\u001b[0m\n\u001b[0m\u001b[0;32m      4\u001b[0m \u001b[0mdate_input\u001b[0m \u001b[1;33m=\u001b[0m \u001b[0minput\u001b[0m\u001b[1;33m(\u001b[0m\u001b[1;34m'Date: '\u001b[0m\u001b[1;33m)\u001b[0m\u001b[1;33m\u001b[0m\u001b[1;33m\u001b[0m\u001b[0m\n",
      "\u001b[1;31mNameError\u001b[0m: name 'year' is not defined"
     ]
    }
   ],
   "source": [
    "import datetime\n",
    "\n",
    "\n",
    "date_input = datetime.date(year, month, day)\n",
    "date_input = input('Date: ')"
   ]
  },
  {
   "cell_type": "code",
   "execution_count": 3,
   "id": "e9c65eb3",
   "metadata": {},
   "outputs": [
    {
     "name": "stdout",
     "output_type": "stream",
     "text": [
      "<class 'datetime.date'>28-04-2023\n",
      "28-04-2023\n"
     ]
    }
   ],
   "source": [
    "import datetime\n",
    "\n",
    "def getdate():\n",
    "    date1 = input(datetime.date)\n",
    "    return date1\n",
    "\n",
    "print(getdate())\n",
    "\n",
    "#print(date1)"
   ]
  },
  {
   "cell_type": "code",
   "execution_count": 9,
   "id": "471319d3",
   "metadata": {},
   "outputs": [
    {
     "name": "stdout",
     "output_type": "stream",
     "text": [
      "Enter start date (YYYY-MM-DD): 2023-04-24\n",
      "Enter end date (YYYY-MM-DD): 2023-04-28\n",
      "2023-04-24\n",
      "2023-04-25\n",
      "2023-04-26\n",
      "2023-04-27\n",
      "2023-04-28\n",
      "5\n"
     ]
    }
   ],
   "source": [
    "import datetime\n",
    "\n",
    "start_date_str = input(\"Enter start date (YYYY-MM-DD): \")\n",
    "start_date = datetime.datetime.strptime(start_date_str, '%Y-%m-%d')\n",
    "\n",
    "end_date_str = input(\"Enter end date (YYYY-MM-DD): \")\n",
    "end_date = datetime.datetime.strptime(end_date_str, '%Y-%m-%d')\n",
    "\n",
    "current_date = start_date\n",
    "count = 0\n",
    "days = []\n",
    "while current_date <= end_date:\n",
    "    print(current_date.strftime('%Y-%m-%d'))\n",
    "    count += 1\n",
    "    days.append(current_date)\n",
    "    current_date += datetime.timedelta(days=1)\n",
    "    \n",
    "print(count)"
   ]
  },
  {
   "cell_type": "code",
   "execution_count": 20,
   "id": "18a91d67",
   "metadata": {},
   "outputs": [
    {
     "name": "stdout",
     "output_type": "stream",
     "text": [
      "2023-04-24.csv\n"
     ]
    }
   ],
   "source": [
    "import numpy as np\n",
    "import pandas as pd\n",
    "\n",
    "print(days[0].strftime('%Y-%m-%d')+'.csv')"
   ]
  },
  {
   "cell_type": "code",
   "execution_count": 29,
   "id": "886792de",
   "metadata": {},
   "outputs": [],
   "source": [
    "df = pd.DataFrame(columns=['regno','name','status'])\n",
    "\n",
    "for i in range(0,count):\n",
    "    day = pd.read_csv(days[i].strftime('%Y-%m-%d')+'.csv')\n",
    "    df += day"
   ]
  },
  {
   "cell_type": "code",
   "execution_count": 30,
   "id": "f2bfaf15",
   "metadata": {},
   "outputs": [
    {
     "data": {
      "text/html": [
       "<div>\n",
       "<style scoped>\n",
       "    .dataframe tbody tr th:only-of-type {\n",
       "        vertical-align: middle;\n",
       "    }\n",
       "\n",
       "    .dataframe tbody tr th {\n",
       "        vertical-align: top;\n",
       "    }\n",
       "\n",
       "    .dataframe thead th {\n",
       "        text-align: right;\n",
       "    }\n",
       "</style>\n",
       "<table border=\"1\" class=\"dataframe\">\n",
       "  <thead>\n",
       "    <tr style=\"text-align: right;\">\n",
       "      <th></th>\n",
       "      <th>regno</th>\n",
       "      <th>name</th>\n",
       "      <th>status</th>\n",
       "    </tr>\n",
       "  </thead>\n",
       "  <tbody>\n",
       "  </tbody>\n",
       "</table>\n",
       "</div>"
      ],
      "text/plain": [
       "Empty DataFrame\n",
       "Columns: [regno, name, status]\n",
       "Index: []"
      ]
     },
     "execution_count": 30,
     "metadata": {},
     "output_type": "execute_result"
    }
   ],
   "source": [
    "df"
   ]
  },
  {
   "cell_type": "code",
   "execution_count": 28,
   "id": "0761a02e",
   "metadata": {},
   "outputs": [
    {
     "name": "stdout",
     "output_type": "stream",
     "text": [
      "         regno      name   status\n",
      "0    21BIT5247    Orelia  present\n",
      "1    21BIT8748     Molli   absent\n",
      "2    21BIT1539     Addia  present\n",
      "3    21BIT2032   Mallory   absent\n",
      "4    21BIT3338  Harmonia  present\n",
      "..         ...       ...      ...\n",
      "995  21BIT5958   Delilah   absent\n",
      "996  21BIT8689    Orelia  present\n",
      "997  21BIT9149      Rhea  present\n",
      "998  21BIT6569     Wilma  present\n",
      "999  21BIT5004    Jaclyn   absent\n",
      "\n",
      "[1000 rows x 3 columns]\n"
     ]
    }
   ],
   "source": [
    "print(day)"
   ]
  },
  {
   "cell_type": "code",
   "execution_count": null,
   "id": "562c2fcc",
   "metadata": {},
   "outputs": [],
   "source": []
  }
 ],
 "metadata": {
  "kernelspec": {
   "display_name": "Python 3 (ipykernel)",
   "language": "python",
   "name": "python3"
  },
  "language_info": {
   "codemirror_mode": {
    "name": "ipython",
    "version": 3
   },
   "file_extension": ".py",
   "mimetype": "text/x-python",
   "name": "python",
   "nbconvert_exporter": "python",
   "pygments_lexer": "ipython3",
   "version": "3.9.13"
  }
 },
 "nbformat": 4,
 "nbformat_minor": 5
}
